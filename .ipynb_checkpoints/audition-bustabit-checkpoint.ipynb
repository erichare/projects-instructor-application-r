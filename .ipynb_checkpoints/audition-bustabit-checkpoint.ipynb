{
 "cells": [
  {
   "cell_type": "markdown",
   "metadata": {
    "collapsed": true
   },
   "source": [
    "Welcome to your DataCamp project audition! This notebook must be filled out and vetted before a contract can be signed and you can start creating your project.\n",
    "\n",
    "The first step is forking the repository in which this notebook lives. After that, there are two parts to be completed in this notebook:\n",
    "\n",
    "- **Project information**:  The title of the project, a project description, etc.\n",
    "\n",
    "- **Project introduction**: The three first text and code cells that will form the introduction of your project.\n",
    "\n",
    "When complete, please email the link to your forked repo to projects@datacamp.com with the email subject line _DataCamp project audition_. If you have any questions, please reach out to projects@datacamp.com."
   ]
  },
  {
   "cell_type": "markdown",
   "metadata": {},
   "source": [
    "# Project information"
   ]
  },
  {
   "cell_type": "markdown",
   "metadata": {},
   "source": [
    "**Project title**: Clustering from Start to Finish with Bustabit Online Gambling Data\n",
    "\n",
    "**Name:** Eric Hare\n",
    "\n",
    "**Email address associated with your DataCamp account:** ericrhare@gmail.com\n",
    "\n",
    "**GitHub username:** erichare\n",
    "\n",
    "**Project description**: Finding related groups of observations within a dataset is an extremely important part of Unsupervised Learning. In this project, we perform a full cluster analysis, beginning with the raw data. We proceed by deriving features used for the clustering, before performing a clustering and assessing the results with visualization techniques. Finally, we name and interpret the resulting clusters.\n",
    "\n",
    "A basic knowledge and comfort with R programming is a must. In addition, knowledge of matrix operations is a plus. We will be using R along with several companion packages such as cluster, dplyr, tidyr, and ggplot2. Experience with data visualization in ggplot2 is useful as well.\n",
    "\n",
    "We will be using data on **Bustabit** users, an online gambling platform in which users can bet a certain amount of Cryptocurrency in hopes of winning more money. The data includes information at the per-game level, including each user's amount bet, the amount won or lost, and the date of the game being played."
   ]
  },
  {
   "cell_type": "markdown",
   "metadata": {},
   "source": [
    "# Project introduction\n",
    "\n",
    "***Note: nothing needs to be filled out in this cell. It is simply setting up the template cells below.***\n",
    "\n",
    "The final output of a DataCamp project looks like a blog post: pairs of text and code cells that tell a story about data. The text is written from the perspective of the data analyst and *not* from the perspective of an instructor on DataCamp. So, for this blog post intro, all you need to do is pretend like you're writing a blog post -- forget the part about instructors and students.\n",
    "\n",
    "Below you'll see the structure of a DataCamp project: a series of \"tasks\" where each task consists of a title, a **single** text cell, and a **single** code cell. There are 8-12 tasks in a project and each task can have up to 10 lines of code. What you need to do:\n",
    "1. Read through the template structure.\n",
    "2. As best you can, divide your project as it is currently visualized in your mind into tasks.\n",
    "3. Fill out the template structure for the first three tasks of your project.\n",
    "\n",
    "As you are completing each task, you may wish to consult the project notebook format in our [documentation](https://instructor-support.datacamp.com/projects/datacamp-projects-jupyter-notebook). Only the `@context` and `@solution` cells are relevant to this audition."
   ]
  },
  {
   "cell_type": "markdown",
   "metadata": {},
   "source": [
    "## 1. A preliminary look at the Bustabit data"
   ]
  },
  {
   "cell_type": "markdown",
   "metadata": {},
   "source": [
    "The similarities and differences in the behaviors of different people has long been of interest, particularly in Psychology and other social science fields. We are going to focus on the behavior on **online gamblers** from a platform called <a href=\"https://www.bustabit.com\" target=\"_blank\">Bustabit</a>. There are a few basic rules to playing a game of Bustabit:\n",
    "\n",
    "![](img/bustabit.png)\n",
    "\n",
    "1. You bet a certain amount of money (in Bitcoin), and you win if you cash out before the game **busts**.\n",
    "2. Your win is calculated by the multiplier value at the moment you cashed out. For example, if you bet 100 and if the value was 2.50x at the time you cashed out, you win 250.\n",
    "3. The multiplier increases as time goes on, but if you wait too long to cash out, you may bust and lose your money.\n",
    "4. Lastly, the house maintains slight advantages because in 1 out of every 100 games, everyone playing busts.\n",
    "\n",
    "Let's begin by doing an exploratory dive into the Bustabit data..."
   ]
  },
  {
   "cell_type": "code",
   "execution_count": 8,
   "metadata": {},
   "outputs": [
    {
     "data": {
      "text/html": [
       "<table>\n",
       "<thead><tr><th scope=col>Id</th><th scope=col>GameID</th><th scope=col>Username</th><th scope=col>Bet</th><th scope=col>CashedOut</th><th scope=col>Bonus</th><th scope=col>Profit</th><th scope=col>BustedAt</th><th scope=col>PlayDate</th></tr></thead>\n",
       "<tbody>\n",
       "\t<tr><td>19029273            </td><td>3395044             </td><td>Shadowshot          </td><td>130                 </td><td>2                   </td><td>2.77                </td><td>133.6               </td><td>251025.1            </td><td>2016-11-29T00:03:05Z</td></tr>\n",
       "</tbody>\n",
       "</table>\n"
      ],
      "text/latex": [
       "\\begin{tabular}{r|lllllllll}\n",
       " Id & GameID & Username & Bet & CashedOut & Bonus & Profit & BustedAt & PlayDate\\\\\n",
       "\\hline\n",
       "\t 19029273             & 3395044              & Shadowshot           & 130                  & 2                    & 2.77                 & 133.6                & 251025.1             & 2016-11-29T00:03:05Z\\\\\n",
       "\\end{tabular}\n"
      ],
      "text/markdown": [
       "\n",
       "Id | GameID | Username | Bet | CashedOut | Bonus | Profit | BustedAt | PlayDate | \n",
       "|---|\n",
       "| 19029273             | 3395044              | Shadowshot           | 130                  | 2                    | 2.77                 | 133.6                | 251025.1             | 2016-11-29T00:03:05Z | \n",
       "\n",
       "\n"
      ],
      "text/plain": [
       "  Id       GameID  Username   Bet CashedOut Bonus Profit BustedAt\n",
       "1 19029273 3395044 Shadowshot 130 2         2.77  133.6  251025.1\n",
       "  PlayDate            \n",
       "1 2016-11-29T00:03:05Z"
      ]
     },
     "execution_count": 8,
     "metadata": {},
     "output_type": "execute_result"
    }
   ],
   "source": [
    "## Load the dplyr package\n",
    "library(dplyr)\n",
    "\n",
    "## Read in the data\n",
    "bustabit <- read.csv(\"datasets/bustabit_sub.csv\", stringsAsFactors = FALSE)\n",
    "\n",
    "## Look at the head of the data\n",
    "head(bustabit)\n",
    "\n",
    "## Who had the highest profit in a single game?\n",
    "bustabit %>%\n",
    "    arrange(desc(Profit)) %>%\n",
    "    slice(1)\n",
    "\n",
    "## What was the highest Multiplier value (BustedAt) ever achieved in a single game?\n",
    "bustabit %>%\n",
    "    arrange(desc(BustedAt)) %>%\n",
    "    slice(1)"
   ]
  },
  {
   "cell_type": "markdown",
   "metadata": {},
   "source": [
    "## 2. Deriving relevant features for clustering"
   ]
  },
  {
   "cell_type": "markdown",
   "metadata": {},
   "source": [
    "The basic task at hand is to cluster the **players** of bustabit, but we have data at the per-game level. Therefore, what we must do is derive **features** that quantify player behavior in order to begin thinking about the relationship and similarity between groups of players. Some features we will create are:\n",
    "\n",
    "1. The average multiplier at which the player cashes out\n",
    "2. The standard deviation of the cashed out multiplier\n",
    "3. The average bet\n",
    "4. The standard deviation of the bets\n",
    "5. The total losses over time for the player\n",
    "6. The total winnings over time for the player\n",
    "7. The number of individual games the player lost\n",
    "8. The number of individual games the player won\n",
    "\n",
    "With these variables, we will be able to potentially group together similar users based on their typical Bustabit gambling behavior."
   ]
  },
  {
   "cell_type": "code",
   "execution_count": 9,
   "metadata": {},
   "outputs": [
    {
     "name": "stderr",
     "output_type": "stream",
     "text": [
      "Error in UseMethod(\"mutate_\"): no applicable method for 'mutate_' applied to an object of class \"function\"\n",
      "\n",
      "\n"
     ]
    }
   ],
   "source": [
    "## Create a clustered data\n",
    "data_clus <- data %>% \n",
    "  mutate(CashedOut = ifelse(is.na(CashedOut), BustedAt + .01, CashedOut),\n",
    "         Losses = ifelse(is.na(Profit), Bet * -1, 0),\n",
    "         Winnings = ifelse(is.na(Profit), 0, Profit),\n",
    "         GameLost = ifelse(is.na(Profit), 1, 0),\n",
    "         GameWon = ifelse(is.na(Profit), 0, 1))   %>%\n",
    "  select(CashedOut, Profit, Bet, Username, Losses, Winnings, GameLost, GameWon) %>%\n",
    "  group_by(Username) %>%\n",
    "  summarise(AverageCashedOut = mean(CashedOuSDBet = sd(Bet),\n",
    "            TotalLosses = sum(Losses),\n",
    "            TotalWinnings = sum(Winnings),\n",
    "            GamesLost = sum(GameLost),\n",
    "            GamesWon = sum(GameWon))"
   ]
  },
  {
   "cell_type": "markdown",
   "metadata": {},
   "source": [
    "## 3. Computing distance between watermelons, oranges, and mangos"
   ]
  },
  {
   "cell_type": "markdown",
   "metadata": {},
   "source": [
    "With standardized data, we are now able to begin thinking about **distances**. That is, how \"far apart\" are oranges and watermelons? To simplify things, we will answer this question only in terms of the *numeric* variables at this point in time.\n",
    "\n",
    "The most simple method for distance between numeric variables is to use **Euclidean Distance**, which is defined as:\n",
    "\n",
    "$d = \\sqrt{\\sum_{i=1}^n (x_i - y_i)^2}$\n",
    "\n",
    "Using the numeric variables, we compute this for our data between watermelons, oranges, and a new fruit, Mangos."
   ]
  },
  {
   "cell_type": "code",
   "execution_count": 51,
   "metadata": {},
   "outputs": [
    {
     "data": {
      "text/plain": [
       "       Watermelon   Orange\n",
       "Orange   4.272537         \n",
       "Mango    1.386879 3.119389"
      ]
     },
     "execution_count": 51,
     "metadata": {},
     "output_type": "execute_result"
    }
   ],
   "source": [
    "## Get the relevant columns and rows\n",
    "fruits_standardnum <- fruits_standardized %>%\n",
    "    slice(match(c(\"Watermelon\", \"Orange\", \"Mango\"), Name)) %>%\n",
    "    select_if(funs(is.numeric))\n",
    "rownames(fruits_standardnum) <- c(\"Watermelon\", \"Orange\", \"Mango\")\n",
    "\n",
    "## Compute distance between watermelons and oranges\n",
    "d1 <- sqrt(sum((fruits_standardnum[1,] - fruits_standardnum[2,])^2))\n",
    "\n",
    "## Compute distance between watermelons and mangos\n",
    "d2 <- sqrt(sum((fruits_standardnum[1,] - fruits_standardnum[3,])^2))\n",
    "\n",
    "## Compute distance between oranges and mangos\n",
    "d3 <- sqrt(sum((fruits_standardnum[2,] - fruits_standardnum[3,])^2))\n",
    "\n",
    "## Which is most different?\n",
    "c(d1, d2, d3) # Watermelons and oranges\n",
    "\n",
    "## An easier way to do the above calculation!\n",
    "dist(fruits_standardnum)"
   ]
  },
  {
   "cell_type": "markdown",
   "metadata": {},
   "source": [
    "*Stop here! Only the three first tasks. :)*"
   ]
  }
 ],
 "metadata": {
  "kernelspec": {
   "display_name": "R 3.5.1 (Juniper)",
   "language": "R",
   "name": "juniper_r3.5.1"
  },
  "language_info": {
   "codemirror_mode": "r",
   "file_extension": ".R",
   "mimetype": "text/x-r-source",
   "name": "R",
   "pygments_lexer": "r",
   "version": "3.5.1"
  }
 },
 "nbformat": 4,
 "nbformat_minor": 2
}
