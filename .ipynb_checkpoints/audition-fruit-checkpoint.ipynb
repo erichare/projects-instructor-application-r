{
 "cells": [
  {
   "cell_type": "markdown",
   "metadata": {
    "collapsed": true
   },
   "source": [
    "Welcome to your DataCamp project audition! This notebook must be filled out and vetted before a contract can be signed and you can start creating your project.\n",
    "\n",
    "The first step is forking the repository in which this notebook lives. After that, there are two parts to be completed in this notebook:\n",
    "\n",
    "- **Project information**:  The title of the project, a project description, etc.\n",
    "\n",
    "- **Project introduction**: The three first text and code cells that will form the introduction of your project.\n",
    "\n",
    "When complete, please email the link to your forked repo to projects@datacamp.com with the email subject line _DataCamp project audition_. If you have any questions, please reach out to projects@datacamp.com."
   ]
  },
  {
   "cell_type": "markdown",
   "metadata": {},
   "source": [
    "# Project information"
   ]
  },
  {
   "cell_type": "markdown",
   "metadata": {},
   "source": [
    "**Project title**: Computing and Visualizing Distance Matrices using Fruit Data\n",
    "\n",
    "**Name:** Eric Hare\n",
    "\n",
    "**Email address associated with your DataCamp account:** ericrhare@gmail.com\n",
    "\n",
    "**GitHub username:** erichare\n",
    "\n",
    "**Project description**: One of the most important unsupervised learning methods is *cluster analysis*, in which related groups of observations are derived in spite of the lack of a response variable. The key mathematical concept here is the idea of *distance*, to quantify how different (or similar) two observations are to one another. In this project, you will explore the computation of distances using several methods, including those designed for numeric, categorical, and mixed data.\n",
    "\n",
    "A basic knowledge and comfort with R programming is a must. In addition, knowledge of matrix operations is a plus. We will be using R along with several companion packages such as cluster, dplyr, tidyr, and ggplot2. The primary function we will be working with is the dist() function from base R, as well as the daisy() function from the cluster package. Finally, comfort with the tidyverse series of packages and the pipe operator is a plus.\n",
    "\n",
    "The data used is a dataset of fruit characteristics available at: https://github.com/OAITI/open-datasets/tree/master/Food%20Data/Fruits . The data includes physical properties of the fruit, as well as nutritional content in a particular serving size of that fruit."
   ]
  },
  {
   "cell_type": "markdown",
   "metadata": {},
   "source": [
    "# Project introduction\n",
    "\n",
    "***Note: nothing needs to be filled out in this cell. It is simply setting up the template cells below.***\n",
    "\n",
    "The final output of a DataCamp project looks like a blog post: pairs of text and code cells that tell a story about data. The text is written from the perspective of the data analyst and *not* from the perspective of an instructor on DataCamp. So, for this blog post intro, all you need to do is pretend like you're writing a blog post -- forget the part about instructors and students.\n",
    "\n",
    "Below you'll see the structure of a DataCamp project: a series of \"tasks\" where each task consists of a title, a **single** text cell, and a **single** code cell. There are 8-12 tasks in a project and each task can have up to 10 lines of code. What you need to do:\n",
    "1. Read through the template structure.\n",
    "2. As best you can, divide your project as it is currently visualized in your mind into tasks.\n",
    "3. Fill out the template structure for the first three tasks of your project.\n",
    "\n",
    "As you are completing each task, you may wish to consult the project notebook format in our [documentation](https://instructor-support.datacamp.com/projects/datacamp-projects-jupyter-notebook). Only the `@context` and `@solution` cells are relevant to this audition."
   ]
  },
  {
   "cell_type": "markdown",
   "metadata": {},
   "source": [
    "## 1. Exploring the fruit data"
   ]
  },
  {
   "cell_type": "markdown",
   "metadata": {},
   "source": [
    "Exploring physical and nutritional properties of fruits has importance in Agriculture, and in our every day lives! Some fruits are more nutritious, some more caloric, and they vary widely in terms of size, shape, and color. We will get our feet wet by exploring some of the data before diving into distance calculations.\n",
    "\n",
    "![](img/watermelon.png)\n",
    "![](img/orange.png)\n",
    "\n",
    "Let's explore and compare **Watermelons** and **Oranges** in the data:"
   ]
  },
  {
   "cell_type": "code",
   "execution_count": 1,
   "metadata": {},
   "outputs": [
    {
     "data": {
      "text/html": [
       "<table>\n",
       "<thead><tr><th></th><th scope=col>Name</th><th scope=col>VitaminA_mg</th></tr></thead>\n",
       "<tbody>\n",
       "\t<tr><th scope=row>26</th><td>Watermelon</td><td>438       </td></tr>\n",
       "\t<tr><th scope=row>30</th><td>Orange    </td><td>295       </td></tr>\n",
       "</tbody>\n",
       "</table>\n"
      ],
      "text/latex": [
       "\\begin{tabular}{r|ll}\n",
       "  & Name & VitaminA\\_mg\\\\\n",
       "\\hline\n",
       "\t26 & Watermelon & 438       \\\\\n",
       "\t30 & Orange     & 295       \\\\\n",
       "\\end{tabular}\n"
      ],
      "text/markdown": [
       "\n",
       "| <!--/--> | Name | VitaminA_mg | \n",
       "|---|---|\n",
       "| 26 | Watermelon | 438        | \n",
       "| 30 | Orange     | 295        | \n",
       "\n",
       "\n"
      ],
      "text/plain": [
       "   Name       VitaminA_mg\n",
       "26 Watermelon 438        \n",
       "30 Orange     295        "
      ]
     },
     "execution_count": 1,
     "metadata": {},
     "output_type": "execute_result"
    }
   ],
   "source": [
    "## Load the dplyr package\n",
    "suppressPackageStartupMessages(library(dplyr))\n",
    "\n",
    "## Read in the data\n",
    "fruits <- read.csv(\"datasets/fruits.csv\", stringsAsFactors = FALSE) %>%\n",
    "    select(-X)\n",
    "\n",
    "## Extract the relevant rows\n",
    "fruits_sub <- fruits[fruits$Name == \"Watermelon\" | fruits$Name == \"Orange\",]\n",
    "fruits_sub\n",
    "\n",
    "## At the specified serving size, which fruit has more calories?\n",
    "fruits_sub$Name[which.max(fruits_sub$Calories)]\n",
    "\n",
    "## What is the difference in calories?\n",
    "diff(fruits_sub$Calories)\n",
    "\n",
    "## Which vitamin does a Watermelon contain more of?\n",
    "fruits_sub[,c(\"Name\", \"VitaminA_mg\")]"
   ]
  },
  {
   "cell_type": "markdown",
   "metadata": {},
   "source": [
    "## 2. Normalizing the numeric variables in the fruits data"
   ]
  },
  {
   "cell_type": "markdown",
   "metadata": {},
   "source": [
    "Suppose I pose the following question: On which variable are watermelons and oranges **most different**? Our instinct might be to compute the differences for each numeric variable, and see which one has the biggest difference. But one issue with this approach is that the variables are not always on the same *scale*. For example, *Fiber* is in grams, but Vitamin A is in milligrams. And Calories is in an entirely different unit altogether. How can we determine the variable upon which they truly are the most different?\n",
    "\n",
    "One way to handle this issue is by using **normalization** - By standardizing each variable (subtracting the mean, and dividing by the standard deviation) we account for the different scales of each variable and standardize them to a consistent for. Let's standardize our numeric variables now."
   ]
  },
  {
   "cell_type": "code",
   "execution_count": 2,
   "metadata": {},
   "outputs": [
    {
     "data": {
      "text/html": [
       "<table>\n",
       "<thead><tr><th scope=col>FruitWeight_g</th><th scope=col>Calories</th><th scope=col>Fiber_g</th><th scope=col>VitaminA_mg</th><th scope=col>VitaminC_mg</th><th scope=col>Potassium_mg</th><th scope=col>Folate_µg</th></tr></thead>\n",
       "<tbody>\n",
       "\t<tr><td>1.152371  </td><td>0.9738931 </td><td>0.726072  </td><td>-0.2182717</td><td>2.043704  </td><td>1.08143   </td><td>3.171294  </td></tr>\n",
       "</tbody>\n",
       "</table>\n"
      ],
      "text/latex": [
       "\\begin{tabular}{r|lllllll}\n",
       " FruitWeight\\_g & Calories & Fiber\\_g & VitaminA\\_mg & VitaminC\\_mg & Potassium\\_mg & Folate\\_µg\\\\\n",
       "\\hline\n",
       "\t 1.152371   & 0.9738931  & 0.726072   & -0.2182717 & 2.043704   & 1.08143    & 3.171294  \\\\\n",
       "\\end{tabular}\n"
      ],
      "text/markdown": [
       "\n",
       "FruitWeight_g | Calories | Fiber_g | VitaminA_mg | VitaminC_mg | Potassium_mg | Folate_µg | \n",
       "|---|\n",
       "| 1.152371   | 0.9738931  | 0.726072   | -0.2182717 | 2.043704   | 1.08143    | 3.171294   | \n",
       "\n",
       "\n"
      ],
      "text/plain": [
       "  FruitWeight_g Calories  Fiber_g  VitaminA_mg VitaminC_mg Potassium_mg\n",
       "1 1.152371      0.9738931 0.726072 -0.2182717  2.043704    1.08143     \n",
       "  Folate_µg\n",
       "1 3.171294 "
      ]
     },
     "execution_count": 2,
     "metadata": {},
     "output_type": "execute_result"
    }
   ],
   "source": [
    "## Standardize each numeric variable\n",
    "fruits_standardized <- fruits %>%\n",
    "    mutate_if(funs(is.numeric), function(.) (. - mean(.)) / sd(.))\n",
    "              \n",
    "## Summarize the result\n",
    "summary(fruits_standardized)\n",
    "              \n",
    "## Extract the relevant rows\n",
    "fruits_standardsub <- fruits_standardized[fruits_standardized$Name == \"Watermelon\" | \n",
    "                                          fruits_standardized$Name == \"Orange\",]\n",
    "              \n",
    "## Get the standardized differences for each numeric variable\n",
    "fruits_standardsub %>%\n",
    "    summarise_if(funs(is.numeric), diff)"
   ]
  },
  {
   "cell_type": "markdown",
   "metadata": {},
   "source": [
    "## 3. Computing distance between watermelons, oranges, and mangoes"
   ]
  },
  {
   "cell_type": "markdown",
   "metadata": {},
   "source": [
    "With standardized data, we are now able to begin thinking about **distances**. That is, how \"far apart\" are oranges and watermelons? To simplify things, we will answer this question only in terms of the *numeric* variables at this point in time.\n",
    "\n",
    "The most simple method for distance between numeric variables is to use **Euclidean Distance**, which is defined as:\n",
    "\n",
    "$d = \\sqrt{\\sum_{i=1}^n (x_i - y_i)^2}$\n",
    "\n",
    "Using the numeric variables, we compute this for our data between watermelons, oranges, and a new fruit, mangoes."
   ]
  },
  {
   "cell_type": "code",
   "execution_count": 3,
   "metadata": {},
   "outputs": [
    {
     "data": {
      "text/plain": [
       "       Watermelon   Orange\n",
       "Orange   4.272537         \n",
       "Mango    1.386879 3.119389"
      ]
     },
     "execution_count": 3,
     "metadata": {},
     "output_type": "execute_result"
    }
   ],
   "source": [
    "## Get the relevant columns and rows\n",
    "fruits_standardnum <- fruits_standardized %>%\n",
    "    slice(match(c(\"Watermelon\", \"Orange\", \"Mango\"), Name)) %>%\n",
    "    select_if(funs(is.numeric))\n",
    "rownames(fruits_standardnum) <- c(\"Watermelon\", \"Orange\", \"Mango\")\n",
    "\n",
    "## Compute distance between watermelons and oranges\n",
    "d1 <- sqrt(sum((fruits_standardnum[1,] - fruits_standardnum[2,])^2))\n",
    "\n",
    "## Compute distance between watermelons and mangoes\n",
    "d2 <- sqrt(sum((fruits_standardnum[1,] - fruits_standardnum[3,])^2))\n",
    "\n",
    "## Compute distance between oranges and mangoes\n",
    "d3 <- sqrt(sum((fruits_standardnum[2,] - fruits_standardnum[3,])^2))\n",
    "\n",
    "## Which is most different?\n",
    "c(d1, d2, d3) # Watermelons and oranges\n",
    "\n",
    "## An easier way to do the above calculation!\n",
    "dist(fruits_standardnum)"
   ]
  },
  {
   "cell_type": "markdown",
   "metadata": {},
   "source": [
    "*Stop here! Only the three first tasks. :)*"
   ]
  }
 ],
 "metadata": {
  "kernelspec": {
   "display_name": "R 3.5.1 (Juniper)",
   "language": "R",
   "name": "juniper_r3.5.1"
  },
  "language_info": {
   "codemirror_mode": "r",
   "file_extension": ".R",
   "mimetype": "text/x-r-source",
   "name": "R",
   "pygments_lexer": "r",
   "version": "3.5.1"
  }
 },
 "nbformat": 4,
 "nbformat_minor": 2
}
